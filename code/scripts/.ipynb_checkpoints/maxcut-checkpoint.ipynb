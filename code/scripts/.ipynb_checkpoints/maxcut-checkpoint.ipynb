{
 "cells": [
  {
   "cell_type": "code",
   "execution_count": 1,
   "id": "5b366114-000e-4adb-9cf1-e9b9f3c6eec6",
   "metadata": {},
   "outputs": [],
   "source": [
    "import numpy as np\n",
    "import pyquil.api as api\n",
    "from grove.pyqaoa.maxcut_qaoa import maxcut_qaoa\n",
    "from collections import Counter\n",
    "import matplotlib.pyplot as plt"
   ]
  },
  {
   "cell_type": "code",
   "execution_count": 2,
   "id": "bf4e7314-70c0-407a-a556-ce84ec642348",
   "metadata": {},
   "outputs": [],
   "source": [
    "# on terminal one run qvm -S\n",
    "# on another terminal run quilc -S\n",
    "\n",
    "qvm_connection = api.QVMConnection()\n",
    "\n",
    "first_graph = [(0, 1), (0, 2), (0, 3)]"
   ]
  },
  {
   "cell_type": "code",
   "execution_count": 3,
   "id": "7fdbb1b1-1257-49b2-ad9b-68e936d558f2",
   "metadata": {},
   "outputs": [
    {
     "name": "stdout",
     "output_type": "stream",
     "text": [
      "WARNING: Fast method for expectation will be used. Noise\n",
      "                     models will be ineffective\n",
      "\tParameters: [0.41128993 1.6091553 ] \n",
      "\tE => -2.248476211556881\n",
      "\tParameters: [0.41128993 1.6091553 ] \n",
      "\tE => -2.2484240058632463\n",
      "\tParameters: [0.38844049 1.6091553 ] \n",
      "\tE => -2.250441603196269\n",
      "\tParameters: [0.37701576 1.75884417] \n",
      "\tE => -2.261026614181648\n",
      "\tParameters: [0.37701576 1.75884417] \n",
      "\tE => -2.2534870532790623\n",
      "\tParameters: [0.31989216 2.0582219 ] \n",
      "\tE => -2.273988949380298\n",
      "\tParameters: [0.33702924 2.20791077] \n",
      "\tE => -2.2960500213256467\n",
      "\tParameters: [0.33702924 2.20791077] \n",
      "\tE => -2.2814411175900124\n",
      "\tParameters: [0.39486689 2.11435523] \n",
      "\tE => -2.313571675583034\n",
      "\tParameters: [0.39486689 2.11435523] \n",
      "\tE => -2.3093055571613332\n",
      "\tParameters: [0.40705028 2.18335244] \n",
      "\tE => -2.3151464373857253\n",
      "\tParameters: [0.38675579 2.20878785] \n",
      "\tE => -2.315947436256596\n",
      "\tParameters: [0.38675579 2.20878785] \n",
      "\tE => -2.315861243460262\n",
      "\tParameters: [0.39918533 2.18267635] \n",
      "\tE => -2.316213888545433\n",
      "\tParameters: [0.39442776 2.17547239] \n",
      "\tE => -2.3164065004882817\n",
      "\tParameters: [0.39178116 2.19393111] \n",
      "\tE => -2.316454869346264\n",
      "\tParameters: [0.39178116 2.19393111] \n",
      "\tE => -2.3164510335806816\n",
      "\tParameters: [0.39267518 2.18264759] \n",
      "\tE => -2.3164885494359515\n",
      "\tParameters: [0.39267518 2.18264759] \n",
      "\tE => -2.3164648928151044\n",
      "\tParameters: [0.39267518 2.18264759] \n",
      "\tE => -2.316486389774004\n"
     ]
    }
   ],
   "source": [
    "#%%capture supresses printing. \n",
    "#get_angles() prints out a lot of stuff that we don't care about right now.\n",
    "maxcut_solver = maxcut_qaoa(graph=first_graph)\n",
    "betas, gammas = maxcut_solver.get_angles()\n",
    "\n",
    "angles = np.hstack((betas, gammas))"
   ]
  },
  {
   "cell_type": "code",
   "execution_count": 4,
   "id": "092223de-1678-4692-81d9-3b88094f609f",
   "metadata": {},
   "outputs": [
    {
     "name": "stdout",
     "output_type": "stream",
     "text": [
      "H 0\n",
      "H 1\n",
      "H 2\n",
      "H 3\n",
      "CNOT 0 1\n",
      "RZ(2.1826475878278515) 1\n",
      "CNOT 0 1\n",
      "X 0\n",
      "PHASE(1.0913237939139258) 0\n",
      "X 0\n",
      "PHASE(1.0913237939139258) 0\n",
      "CNOT 0 2\n",
      "RZ(2.1826475878278515) 2\n",
      "CNOT 0 2\n",
      "X 0\n",
      "PHASE(1.0913237939139258) 0\n",
      "X 0\n",
      "PHASE(1.0913237939139258) 0\n",
      "CNOT 0 3\n",
      "RZ(2.1826475878278515) 3\n",
      "CNOT 0 3\n",
      "X 0\n",
      "PHASE(1.0913237939139258) 0\n",
      "X 0\n",
      "PHASE(1.0913237939139258) 0\n",
      "H 0\n",
      "RZ(-0.7853503560387345) 0\n",
      "H 0\n",
      "H 1\n",
      "RZ(-0.7853503560387345) 1\n",
      "H 1\n",
      "H 2\n",
      "RZ(-0.7853503560387345) 2\n",
      "H 2\n",
      "H 3\n",
      "RZ(-0.7853503560387345) 3\n",
      "H 3\n",
      "\n",
      "Number of gates: 37\n"
     ]
    }
   ],
   "source": [
    "# We take a template for quil program from the maxcut_solver.\n",
    "param_prog = maxcut_solver.get_parameterized_program()\n",
    "# We initialize this program with the angles we have found\n",
    "prog = param_prog(angles)\n",
    "# Now we can print the program. \n",
    "# Some of the values you see here are the angles we calculated earlier.\n",
    "print(prog)\n",
    "print(\"Number of gates:\", len(prog))"
   ]
  },
  {
   "cell_type": "code",
   "execution_count": 5,
   "id": "b687d081-c5be-4ac5-8fc4-fc0593c4b8aa",
   "metadata": {},
   "outputs": [],
   "source": [
    "qubits = [0, 1, 2, 3]\n",
    "measurements = qvm_connection.run_and_measure(prog, qubits, trials=1000)"
   ]
  },
  {
   "cell_type": "code",
   "execution_count": 6,
   "id": "7520e934-9810-4840-a243-1bff5a284103",
   "metadata": {},
   "outputs": [
    {
     "data": {
      "text/plain": [
       "[((0, 1, 1, 1), 225),\n",
       " ((1, 0, 0, 0), 215),\n",
       " ((0, 0, 1, 1), 86),\n",
       " ((1, 1, 0, 0), 84),\n",
       " ((0, 1, 1, 0), 78),\n",
       " ((1, 0, 1, 0), 73),\n",
       " ((1, 0, 0, 1), 72),\n",
       " ((0, 1, 0, 1), 68),\n",
       " ((0, 0, 0, 0), 32),\n",
       " ((1, 1, 1, 1), 21),\n",
       " ((1, 1, 1, 0), 9),\n",
       " ((1, 1, 0, 1), 9),\n",
       " ((0, 0, 0, 1), 9),\n",
       " ((0, 0, 1, 0), 7),\n",
       " ((0, 1, 0, 0), 6),\n",
       " ((1, 0, 1, 1), 6)]"
      ]
     },
     "execution_count": 6,
     "metadata": {},
     "output_type": "execute_result"
    }
   ],
   "source": [
    "# This is just a hack - we can't use Counter on a list of lists but we can on a list of tuples.\n",
    "measurements = [tuple(measurement) for measurement in measurements]\n",
    "measurements_counter = Counter(measurements)\n",
    "# This line gives us the results in the diminishing order\n",
    "measurements_counter.most_common()"
   ]
  },
  {
   "cell_type": "code",
   "execution_count": 7,
   "id": "dbe03ca3-543d-4dcd-9ac5-da1d58cfb0f7",
   "metadata": {},
   "outputs": [
    {
     "name": "stdout",
     "output_type": "stream",
     "text": [
      "[0.39267518 2.18264759]\n"
     ]
    }
   ],
   "source": [
    "# We create an array of angles with correct format\n",
    "angles = np.hstack((betas, gammas))\n",
    "print(angles)"
   ]
  },
  {
   "cell_type": "code",
   "execution_count": 8,
   "id": "00d61dfe-5875-4ac0-bfa6-2ee58ede72b7",
   "metadata": {},
   "outputs": [
    {
     "name": "stdout",
     "output_type": "stream",
     "text": [
      "Probability amplitudes for all the possible states:\n",
      "0000 (0.08144148106649353+0.1289269062193455j)\n",
      "0001 (0.464977681240586-0.1056857482188867j)\n",
      "0010 (0.08009271700320185+0.03354197762219101j)\n",
      "0011 (-0.25360010961128854-0.10616441189978959j)\n",
      "0100 (0.08009271700320188+0.03354197762219097j)\n",
      "0101 (-0.25360010961128854-0.10616441189978955j)\n",
      "0110 (-0.25360010961128854-0.10616441189978958j)\n",
      "0111 (0.08009271700320185+0.033541977622190924j)\n",
      "1000 (0.08009271700320185+0.033541977622190924j)\n",
      "1001 (-0.25360010961128854-0.10616441189978958j)\n",
      "1010 (-0.25360010961128854-0.10616441189978955j)\n",
      "1011 (0.08009271700320188+0.03354197762219097j)\n",
      "1100 (-0.25360010961128854-0.10616441189978959j)\n",
      "1101 (0.08009271700320185+0.03354197762219101j)\n",
      "1110 (0.464977681240586-0.1056857482188867j)\n",
      "1111 (0.08144148106649353+0.1289269062193455j)\n"
     ]
    }
   ],
   "source": [
    "wf = qvm_connection.wavefunction(prog)\n",
    "print(\"Probability amplitudes for all the possible states:\")\n",
    "for state_index in range(maxcut_solver.nstates):\n",
    "    print(maxcut_solver.states[state_index], wf[state_index])"
   ]
  },
  {
   "cell_type": "code",
   "execution_count": 9,
   "id": "10187c56-3f0e-4e0d-8464-0b36f00d13b6",
   "metadata": {},
   "outputs": [
    {
     "name": "stdout",
     "output_type": "stream",
     "text": [
      "Probabilities of measuring given states:\n",
      "0000 0.023254861985595933\n",
      "0001 0.22737372142845794\n",
      "0010 0.007539907579762541\n",
      "0011 0.07558389794888576\n",
      "0100 0.007539907579762543\n",
      "0101 0.07558389794888574\n",
      "0110 0.07558389794888574\n",
      "0111 0.007539907579762535\n",
      "1000 0.007539907579762535\n",
      "1001 0.07558389794888574\n",
      "1010 0.07558389794888574\n",
      "1011 0.007539907579762543\n",
      "1100 0.07558389794888576\n",
      "1101 0.007539907579762541\n",
      "1110 0.22737372142845794\n",
      "1111 0.023254861985595933\n"
     ]
    }
   ],
   "source": [
    "print(\"Probabilities of measuring given states:\")\n",
    "states_with_probs = []\n",
    "for state_index in range(maxcut_solver.nstates):\n",
    "    states_with_probs.append([maxcut_solver.states[state_index], np.real(np.conj(wf[state_index])*wf[state_index])])\n",
    "    print(states_with_probs[-1][0], states_with_probs[-1][1])"
   ]
  },
  {
   "cell_type": "code",
   "execution_count": 10,
   "id": "57641278-b549-4b37-96c4-e59b32d7bf90",
   "metadata": {},
   "outputs": [],
   "source": [
    "def plot_state_histogram(states_with_probs):\n",
    "    states = np.array(states_with_probs)[:,0]\n",
    "    probs = np.array(states_with_probs)[:,1].astype(float)\n",
    "    n = len(states_with_probs)\n",
    "    plt.barh(range(n), probs, tick_label=states)\n",
    "    plt.show()"
   ]
  },
  {
   "cell_type": "code",
   "execution_count": 11,
   "id": "a7005286-1f1e-4ca2-95ba-b6850aa1dcdc",
   "metadata": {},
   "outputs": [
    {
     "data": {
      "image/png": "[encoded data removed]",
      "text/plain": [
       "<Figure size 432x288 with 1 Axes>"
      ]
     },
     "metadata": {
      "needs_background": "light"
     },
     "output_type": "display_data"
    }
   ],
   "source": [
    "plot_state_histogram(states_with_probs)"
   ]
  },
  {
   "cell_type": "code",
   "execution_count": null,
   "id": "0a4f2b99-c753-4c4d-acf9-c5b06ed20481",
   "metadata": {},
   "outputs": [],
   "source": []
  }
 ],
 "metadata": {
  "kernelspec": {
   "display_name": "Python 3",
   "language": "python",
   "name": "python3"
  },
  "language_info": {
   "codemirror_mode": {
    "name": "ipython",
    "version": 3
   },
   "file_extension": ".py",
   "mimetype": "text/x-python",
   "name": "python",
   "nbconvert_exporter": "python",
   "pygments_lexer": "ipython3",
   "version": "3.9.5"
  }
 },
 "nbformat": 4,
 "nbformat_minor": 5
}
