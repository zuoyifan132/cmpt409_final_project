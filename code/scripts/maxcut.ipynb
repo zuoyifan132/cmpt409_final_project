{
 "cells": [
  {
   "cell_type": "code",
   "execution_count": 1,
   "id": "5b366114-000e-4adb-9cf1-e9b9f3c6eec6",
   "metadata": {},
   "outputs": [],
   "source": [
    "import numpy as np\n",
    "import pyquil.api as api\n",
    "from grove.pyqaoa.maxcut_qaoa import maxcut_qaoa\n",
    "from collections import Counter\n",
    "import matplotlib.pyplot as plt"
   ]
  },
  {
   "cell_type": "code",
   "execution_count": 2,
   "id": "bf4e7314-70c0-407a-a556-ce84ec642348",
   "metadata": {},
   "outputs": [],
   "source": [
    "# on terminal one run qvm -S\n",
    "# on another terminal run quilc -S\n",
    "\n",
    "qvm_connection = api.QVMConnection()\n",
    "\n",
    "first_graph = [(0, 1), (0, 2), (0, 3), (0, 4)]"
   ]
  },
  {
   "cell_type": "code",
   "execution_count": 3,
   "id": "7fdbb1b1-1257-49b2-ad9b-68e936d558f2",
   "metadata": {},
   "outputs": [
    {
     "name": "stdout",
     "output_type": "stream",
     "text": [
      "WARNING: Fast method for expectation will be used. Noise\n",
      "                     models will be ineffective\n",
      "\tParameters: [1.40758976 1.03284884] \n",
      "\tE => -1.408191509402985\n",
      "\tParameters: [1.55489567 0.97546835] \n",
      "\tE => -1.9380942417861566\n",
      "\tParameters: [1.69401791 0.71725614] \n",
      "\tE => -2.444142546726447\n",
      "\tParameters: [1.84132382 0.65987565] \n",
      "\tE => -2.722234242720612\n",
      "\tParameters: [1.84132382 0.65987565] \n",
      "\tE => -2.6941883496987424\n",
      "\tParameters: [1.84132382 0.65987565] \n",
      "\tE => -2.720253765090394\n",
      "\tParameters: [1.88019621 0.69573845] \n",
      "\tE => -2.832014702069549\n",
      "\tParameters: [1.88019621 0.69573845] \n",
      "\tE => -2.848731664561679\n",
      "\tParameters: [1.88019621 0.69573845] \n",
      "\tE => -2.876229707627571\n",
      "\tParameters: [1.90858328 0.81856857] \n",
      "\tE => -2.9399430933196853\n",
      "\tParameters: [1.90858328 0.81856857] \n",
      "\tE => -2.917087492489361\n",
      "\tParameters: [1.96503776 0.79817159] \n",
      "\tE => -2.9522689457158986\n",
      "\tParameters: [1.9371302  1.07442728] \n",
      "\tE => -2.968880157732496\n",
      "\tParameters: [1.9371302  1.07442728] \n",
      "\tE => -2.9672307161376046\n",
      "\tParameters: [1.96599678 1.59634319] \n",
      "\tE => -2.999606997167054\n",
      "\tParameters: [1.96599678 1.59634319] \n",
      "\tE => -2.9756774625117806\n",
      "\tParameters: [1.96599678 1.59634319] \n",
      "\tE => -2.9798357028878013\n",
      "\tParameters: [1.96599678 1.59634319] \n",
      "\tE => -2.9891020139383557\n",
      "\tParameters: [1.96599678 1.59634319] \n",
      "\tE => -2.9961680856856123\n",
      "\tParameters: [1.96599678 1.59634319] \n",
      "\tE => -2.9963011576147616\n",
      "\tParameters: [1.96599678 1.59634319] \n",
      "\tE => -2.997929118192006\n",
      "\tParameters: [1.96599678 1.59634319] \n",
      "\tE => -2.999063018243866\n",
      "\tParameters: [1.96599678 1.59634319] \n",
      "\tE => -2.99953179711366\n",
      "\tParameters: [1.96978814 1.56144185] \n",
      "\tE => -2.9980983338363223\n",
      "\tParameters: [1.96260234 1.56566267] \n",
      "\tE => -2.999980577653119\n",
      "\tParameters: [1.96260234 1.56566267] \n",
      "\tE => -2.9999032575840867\n",
      "\tParameters: [1.96260234 1.56566267] \n",
      "\tE => -2.9999421270665634\n",
      "\tParameters: [1.96410602 1.57601124] \n",
      "\tE => -2.999983277833841\n",
      "\tParameters: [1.96421642 1.567012  ] \n",
      "\tE => -2.999988734796515\n"
     ]
    }
   ],
   "source": [
    "#%%capture supresses printing. \n",
    "#get_angles() prints out a lot of stuff that we don't care about right now.\n",
    "maxcut_solver = maxcut_qaoa(graph=first_graph)\n",
    "betas, gammas = maxcut_solver.get_angles()\n",
    "\n",
    "angles = np.hstack((betas, gammas))"
   ]
  },
  {
   "cell_type": "code",
   "execution_count": 4,
   "id": "092223de-1678-4692-81d9-3b88094f609f",
   "metadata": {},
   "outputs": [
    {
     "name": "stdout",
     "output_type": "stream",
     "text": [
      "H 0\n",
      "H 1\n",
      "H 2\n",
      "H 3\n",
      "H 4\n",
      "CNOT 0 1\n",
      "RZ(1.5670120000810832) 1\n",
      "CNOT 0 1\n",
      "X 0\n",
      "PHASE(0.7835060000405416) 0\n",
      "X 0\n",
      "PHASE(0.7835060000405416) 0\n",
      "CNOT 0 2\n",
      "RZ(1.5670120000810832) 2\n",
      "CNOT 0 2\n",
      "X 0\n",
      "PHASE(0.7835060000405416) 0\n",
      "X 0\n",
      "PHASE(0.7835060000405416) 0\n",
      "CNOT 0 3\n",
      "RZ(1.5670120000810832) 3\n",
      "CNOT 0 3\n",
      "X 0\n",
      "PHASE(0.7835060000405416) 0\n",
      "X 0\n",
      "PHASE(0.7835060000405416) 0\n",
      "CNOT 0 4\n",
      "RZ(1.5670120000810832) 4\n",
      "CNOT 0 4\n",
      "X 0\n",
      "PHASE(0.7835060000405416) 0\n",
      "X 0\n",
      "PHASE(0.7835060000405416) 0\n",
      "H 0\n",
      "RZ(-3.9284328425028576) 0\n",
      "H 0\n",
      "H 1\n",
      "RZ(-3.9284328425028576) 1\n",
      "H 1\n",
      "H 2\n",
      "RZ(-3.9284328425028576) 2\n",
      "H 2\n",
      "H 3\n",
      "RZ(-3.9284328425028576) 3\n",
      "H 3\n",
      "H 4\n",
      "RZ(-3.9284328425028576) 4\n",
      "H 4\n",
      "\n",
      "Number of gates: 48\n"
     ]
    }
   ],
   "source": [
    "# We take a template for quil program from the maxcut_solver.\n",
    "param_prog = maxcut_solver.get_parameterized_program()\n",
    "# We initialize this program with the angles we have found\n",
    "prog = param_prog(angles)\n",
    "# Now we can print the program. \n",
    "# Some of the values you see here are the angles we calculated earlier.\n",
    "print(prog)\n",
    "print(\"Number of gates:\", len(prog))"
   ]
  },
  {
   "cell_type": "code",
   "execution_count": 5,
   "id": "b687d081-c5be-4ac5-8fc4-fc0593c4b8aa",
   "metadata": {},
   "outputs": [],
   "source": [
    "qubits = [0, 1, 2, 3]\n",
    "measurements = qvm_connection.run_and_measure(prog, qubits, trials=1000)"
   ]
  },
  {
   "cell_type": "code",
   "execution_count": 6,
   "id": "7520e934-9810-4840-a243-1bff5a284103",
   "metadata": {},
   "outputs": [
    {
     "data": {
      "text/plain": [
       "[((1, 0, 0, 0), 270),\n",
       " ((0, 1, 1, 1), 263),\n",
       " ((1, 1, 0, 0), 53),\n",
       " ((0, 1, 0, 1), 52),\n",
       " ((0, 0, 1, 1), 52),\n",
       " ((1, 0, 0, 1), 46),\n",
       " ((1, 0, 1, 0), 43),\n",
       " ((1, 1, 1, 1), 41),\n",
       " ((0, 0, 0, 0), 40),\n",
       " ((0, 1, 1, 0), 39),\n",
       " ((1, 1, 1, 0), 25),\n",
       " ((0, 0, 1, 0), 18),\n",
       " ((1, 0, 1, 1), 15),\n",
       " ((1, 1, 0, 1), 15),\n",
       " ((0, 1, 0, 0), 15),\n",
       " ((0, 0, 0, 1), 13)]"
      ]
     },
     "execution_count": 6,
     "metadata": {},
     "output_type": "execute_result"
    }
   ],
   "source": [
    "# This is just a hack - we can't use Counter on a list of lists but we can on a list of tuples.\n",
    "measurements = [tuple(measurement) for measurement in measurements]\n",
    "measurements_counter = Counter(measurements)\n",
    "# This line gives us the results in the diminishing order\n",
    "measurements_counter.most_common()"
   ]
  },
  {
   "cell_type": "code",
   "execution_count": 7,
   "id": "dbe03ca3-543d-4dcd-9ac5-da1d58cfb0f7",
   "metadata": {},
   "outputs": [
    {
     "name": "stdout",
     "output_type": "stream",
     "text": [
      "[1.96421642 1.567012  ]\n"
     ]
    }
   ],
   "source": [
    "# We create an array of angles with correct format\n",
    "angles = np.hstack((betas, gammas))\n",
    "print(angles)"
   ]
  },
  {
   "cell_type": "code",
   "execution_count": 8,
   "id": "00d61dfe-5875-4ac0-bfa6-2ee58ede72b7",
   "metadata": {},
   "outputs": [
    {
     "name": "stdout",
     "output_type": "stream",
     "text": [
      "Probability amplitudes for all the possible states:\n",
      "00000 (-0.19786097728000865+0.01602394394895401j)\n",
      "00001 (-0.0006771853219997154+0.4762842433936306j)\n",
      "00010 (-0.03321245221244762+0.08155112155832955j)\n",
      "00011 (0.1969924418325057-0.01501729443859065j)\n",
      "00100 (-0.033212452212447605+0.08155112155832953j)\n",
      "00101 (0.19699244183250564-0.015017294438590678j)\n",
      "00110 (0.03378816515778445-0.08140077032154076j)\n",
      "00111 (0.03378816515778441-0.08140077032154083j)\n",
      "01000 (-0.033212452212447584+0.0815511215583295j)\n",
      "01001 (0.1969924418325057-0.015017294438590664j)\n",
      "01010 (0.033788165157784475-0.08140077032154076j)\n",
      "01011 (0.03378816515778443-0.08140077032154083j)\n",
      "01100 (0.03378816515778445-0.08140077032154083j)\n",
      "01101 (0.033788165157784475-0.08140077032154078j)\n",
      "01110 (0.19699244183250575-0.01501729443859065j)\n",
      "01111 (-0.03321245221244759+0.08155112155832951j)\n",
      "10000 (-0.03321245221244759+0.08155112155832951j)\n",
      "10001 (0.19699244183250575-0.01501729443859065j)\n",
      "10010 (0.033788165157784475-0.08140077032154078j)\n",
      "10011 (0.03378816515778445-0.08140077032154083j)\n",
      "10100 (0.03378816515778443-0.08140077032154083j)\n",
      "10101 (0.033788165157784475-0.08140077032154076j)\n",
      "10110 (0.1969924418325057-0.015017294438590664j)\n",
      "10111 (-0.033212452212447584+0.0815511215583295j)\n",
      "11000 (0.03378816515778441-0.08140077032154083j)\n",
      "11001 (0.03378816515778445-0.08140077032154076j)\n",
      "11010 (0.19699244183250564-0.015017294438590678j)\n",
      "11011 (-0.033212452212447605+0.08155112155832953j)\n",
      "11100 (0.1969924418325057-0.01501729443859065j)\n",
      "11101 (-0.03321245221244762+0.08155112155832955j)\n",
      "11110 (-0.0006771853219997154+0.4762842433936306j)\n",
      "11111 (-0.19786097728000865+0.01602394394895401j)\n"
     ]
    }
   ],
   "source": [
    "wf = qvm_connection.wavefunction(prog)\n",
    "print(\"Probability amplitudes for all the possible states:\")\n",
    "for state_index in range(maxcut_solver.nstates):\n",
    "    print(maxcut_solver.states[state_index], wf[state_index])"
   ]
  },
  {
   "cell_type": "code",
   "execution_count": 9,
   "id": "10187c56-3f0e-4e0d-8464-0b36f00d13b6",
   "metadata": {},
   "outputs": [
    {
     "name": "stdout",
     "output_type": "stream",
     "text": [
      "Probabilities of measuring given states:\n",
      "00000 0.03940573310987932\n",
      "00001 0.2268471390850035\n",
      "00010 0.00775365240938556\n",
      "00011 0.03903154127138846\n",
      "00100 0.007753652409385555\n",
      "00101 0.03903154127138844\n",
      "00110 0.007767725513669951\n",
      "00111 0.0077677255136699595\n",
      "01000 0.007753652409385548\n",
      "01001 0.03903154127138846\n",
      "01010 0.0077677255136699526\n",
      "01011 0.007767725513669961\n",
      "01100 0.007767725513669962\n",
      "01101 0.007767725513669954\n",
      "01110 0.039031541271388484\n",
      "01111 0.007753652409385551\n",
      "10000 0.007753652409385551\n",
      "10001 0.039031541271388484\n",
      "10010 0.007767725513669954\n",
      "10011 0.007767725513669962\n",
      "10100 0.007767725513669961\n",
      "10101 0.0077677255136699526\n",
      "10110 0.03903154127138846\n",
      "10111 0.007753652409385548\n",
      "11000 0.0077677255136699595\n",
      "11001 0.007767725513669951\n",
      "11010 0.03903154127138844\n",
      "11011 0.007753652409385555\n",
      "11100 0.03903154127138846\n",
      "11101 0.00775365240938556\n",
      "11110 0.2268471390850035\n",
      "11111 0.03940573310987932\n"
     ]
    }
   ],
   "source": [
    "print(\"Probabilities of measuring given states:\")\n",
    "states_with_probs = []\n",
    "for state_index in range(maxcut_solver.nstates):\n",
    "    states_with_probs.append([maxcut_solver.states[state_index], np.real(np.conj(wf[state_index])*wf[state_index])])\n",
    "    print(states_with_probs[-1][0], states_with_probs[-1][1])"
   ]
  },
  {
   "cell_type": "code",
   "execution_count": 10,
   "id": "57641278-b549-4b37-96c4-e59b32d7bf90",
   "metadata": {},
   "outputs": [],
   "source": [
    "def plot_state_histogram(states_with_probs):\n",
    "    states = np.array(states_with_probs)[:,0]\n",
    "    probs = np.array(states_with_probs)[:,1].astype(float)\n",
    "    n = len(states_with_probs)\n",
    "    plt.barh(range(n), probs, tick_label=states)\n",
    "    plt.show()"
   ]
  },
  {
   "cell_type": "code",
   "execution_count": 11,
   "id": "a7005286-1f1e-4ca2-95ba-b6850aa1dcdc",
   "metadata": {},
   "outputs": [
    {
     "data": {
      "image/png": "[encoded data removed]",
      "text/plain": [
       "<Figure size 432x288 with 1 Axes>"
      ]
     },
     "metadata": {
      "needs_background": "light"
     },
     "output_type": "display_data"
    }
   ],
   "source": [
    "plot_state_histogram(states_with_probs)"
   ]
  },
  {
   "cell_type": "code",
   "execution_count": null,
   "id": "0a4f2b99-c753-4c4d-acf9-c5b06ed20481",
   "metadata": {},
   "outputs": [],
   "source": []
  }
 ],
 "metadata": {
  "kernelspec": {
   "display_name": "Python 3",
   "language": "python",
   "name": "python3"
  },
  "language_info": {
   "codemirror_mode": {
    "name": "ipython",
    "version": 3
   },
   "file_extension": ".py",
   "mimetype": "text/x-python",
   "name": "python",
   "nbconvert_exporter": "python",
   "pygments_lexer": "ipython3",
   "version": "3.9.5"
  }
 },
 "nbformat": 4,
 "nbformat_minor": 5
}
