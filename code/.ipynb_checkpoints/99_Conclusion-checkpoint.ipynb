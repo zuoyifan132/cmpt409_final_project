{
 "cells": [
  {
   "cell_type": "markdown",
   "metadata": {},
   "source": [
    "# Conclusion"
   ]
  },
  {
   "cell_type": "markdown",
   "metadata": {},
   "source": [
    "You have finished all the notebooks so far.\n",
    "\n",
    "You have understood how to use QAOA for solving optimization problems.\n",
    "\n",
    "You have learned what are some of the challenges quantum computing community is struggling with.\n",
    "\n",
    "If you found this journey interesting, there are a couple of things I recommend you to do (and other closing remarks)."
   ]
  },
  {
   "cell_type": "markdown",
   "metadata": {},
   "source": [
    "## Future of this tutorial"
   ]
  },
  {
   "cell_type": "markdown",
   "metadata": {},
   "source": [
    "This tutorial is not finished. There are still a couple of things I would like to do:\n",
    "- notebook on method proposed by Stuart Hadfield - it improves the results significantly.\n",
    "- notebook on simulating it with noise\n",
    "- notebook on running it on an actual QPU\n",
    "- different versions of this tutorial for other platforms, e.g. QISKIT or CirQ.\n",
    "\n",
    "If you want to be notified when I update it, please either star this repository or send me an e-mail."
   ]
  },
  {
   "cell_type": "markdown",
   "metadata": {},
   "source": [
    "## Learn more"
   ]
  },
  {
   "cell_type": "markdown",
   "metadata": {},
   "source": [
    "Here are a couple of resources I think might be useful:\n",
    "- \"Quantum Computation and Quantum Information\" by Nielsen and Chuang\n",
    "- There are edX coursers on QC and QML (Quantum Machine Learning)\n",
    "- A [YouTube playlist](https://www.youtube.com/playlist?list=PLpQk8lG_JZSrgMdQK6Tibmk8EpISYak3P) with some interesting introductory videos.\n",
    "- [List of open source quantum software](https://github.com/qosf/os_quantum_software)\n",
    "- There are plenty of interesting QAOA papers - search for your own :)\n",
    "- If you consider a career in QC I recommend [my blogpost](https://medium.com/@michal.stechly/how-i-got-a-job-in-quantum-computing-7049b81caf91) on this topic"
   ]
  },
  {
   "cell_type": "markdown",
   "metadata": {},
   "source": [
    "## Join a community"
   ]
  },
  {
   "cell_type": "markdown",
   "metadata": {},
   "source": [
    "There are a couple of communities of people interested in QC:\n",
    "- Slack groups for people using pyQuil, QISKIT or Strawberry Fields.\n",
    "- Facebook groups.\n",
    "- There are many local QC meetups - check if there are any in your city."
   ]
  },
  {
   "cell_type": "markdown",
   "metadata": {},
   "source": [
    "## Want to help?"
   ]
  },
  {
   "cell_type": "markdown",
   "metadata": {},
   "source": [
    "If you liked this tutorial and would like to somehow show your gratitude, there are at least two ways you can do that:\n",
    "- give me feedback: if you have any ideas how to improve it - let me know. If not, but you liked it - also let me know :) This is really motivating for further work!\n",
    "- pass the word - if you know someone who would like to learn more about QC let them know about this tutorial. "
   ]
  },
  {
   "cell_type": "markdown",
   "metadata": {},
   "source": [
    "## Bohr Technology"
   ]
  },
  {
   "cell_type": "markdown",
   "metadata": {},
   "source": [
    "I work at a company called [Bohr Technology](https://www.bohr.technology) and we have a couple of projects that might be interesting for you:\n",
    "- [Here](https://github.com/BOHRTECHNOLOGY/public_research) is our repo with public research - you might find some inspiration in these projects. Perhaps you would even like to carry on research on one of them?\n",
    "- We are running a program for people who want to do research in QC. [Click here](https://www.bohr.technology/bqresearcher) to learn more."
   ]
  }
 ],
 "metadata": {
  "kernelspec": {
   "display_name": "Python 3",
   "language": "python",
   "name": "python3"
  },
  "language_info": {
   "codemirror_mode": {
    "name": "ipython",
    "version": 3
   },
   "file_extension": ".py",
   "mimetype": "text/x-python",
   "name": "python",
   "nbconvert_exporter": "python",
   "pygments_lexer": "ipython3",
   "version": "3.6.4"
  }
 },
 "nbformat": 4,
 "nbformat_minor": 2
}
